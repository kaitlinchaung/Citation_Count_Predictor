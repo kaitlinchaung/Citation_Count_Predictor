{
 "cells": [
  {
   "cell_type": "code",
   "execution_count": 1,
   "metadata": {},
   "outputs": [
    {
     "name": "stderr",
     "output_type": "stream",
     "text": [
      "[nltk_data] Downloading package wordnet to\n",
      "[nltk_data]     /Users/kaitlinchaung/nltk_data...\n",
      "[nltk_data]   Package wordnet is already up-to-date!\n",
      "[nltk_data] Downloading package stopwords to\n",
      "[nltk_data]     /Users/kaitlinchaung/nltk_data...\n",
      "[nltk_data]   Package stopwords is already up-to-date!\n"
     ]
    }
   ],
   "source": [
    "from IPython.core.display import display, HTML\n",
    "import matplotlib.pyplot as plt\n",
    "import pandas as pd\n",
    "pd.options.mode.chained_assignment = None  # default='warn'\n",
    "import re\n",
    "import numpy as np\n",
    "from fuzzywuzzy import fuzz\n",
    "from fuzzywuzzy import process\n",
    "import nltk\n",
    "import spacy\n",
    "import random \n",
    "import gensim\n",
    "import smart_open\n",
    "from gensim.models.coherencemodel import CoherenceModel\n",
    "\n",
    "spacy.load('en')\n",
    "from spacy.lang.en import English\n",
    "parser = English()\n",
    "\n",
    "nltk.download('wordnet')\n",
    "nltk.download('stopwords')\n",
    "from nltk.corpus import wordnet as wn\n",
    "from nltk.stem.wordnet import WordNetLemmatizer\n",
    "\n",
    "en_stop = set(nltk.corpus.stopwords.words('english'))"
   ]
  },
  {
   "cell_type": "markdown",
   "metadata": {},
   "source": [
    "## Further feature engineering with topic modeling"
   ]
  },
  {
   "cell_type": "code",
   "execution_count": 2,
   "metadata": {},
   "outputs": [],
   "source": [
    "def get_topic_months(processed_text):\n",
    "    \n",
    "    \"\"\"\n",
    "    Get topic months\n",
    "    \"\"\"\n",
    "    \n",
    "    processed_text = prepare_text_for_lda(processed_text)\n",
    "    processed_text_bow = dictionary.doc2bow(processed_text)\n",
    "    topic_scores = ldamodel.get_document_topics(processed_text_bow)\n",
    "    best_topic = float(pd.DataFrame(topic_scores,columns=['topic','prob']).sort_values(by=['prob'],ascending=False).head(1).topic.values[0])\n",
    "    rank1_month = topic_months[topic_months.Dominant_Topic == best_topic].Rank1_month.values[0]\n",
    "    return (rank1_month)"
   ]
  },
  {
   "cell_type": "code",
   "execution_count": 3,
   "metadata": {},
   "outputs": [],
   "source": [
    "def tokenize(text):\n",
    "    \n",
    "    \"\"\"\n",
    "    Take text and return list of tokens\n",
    "    \"\"\"\n",
    "\n",
    "    lda_tokens = []\n",
    "    tokens = parser(text)\n",
    "    for token in tokens:\n",
    "        if token.orth_.isspace():\n",
    "            continue\n",
    "        else:\n",
    "            lda_tokens.append(token.lower_)\n",
    "    return lda_tokens"
   ]
  },
  {
   "cell_type": "code",
   "execution_count": 4,
   "metadata": {},
   "outputs": [],
   "source": [
    "def get_lemma(word):\n",
    "    \n",
    "    \"\"\"\n",
    "    Get meaning of words, syn, antonym\n",
    "    \"\"\"\n",
    "    \n",
    "    lemma = wn.morphy(word)\n",
    "    if lemma is None:\n",
    "        return word\n",
    "    else:\n",
    "        return lemma "
   ]
  },
  {
   "cell_type": "code",
   "execution_count": 5,
   "metadata": {},
   "outputs": [],
   "source": [
    "def get_lemma2(word):\n",
    "    \n",
    "    \"\"\"\n",
    "    Get root word\n",
    "    \"\"\"\n",
    "    \n",
    "    return WordNetLemmatizer().lemmatize(word)"
   ]
  },
  {
   "cell_type": "code",
   "execution_count": 6,
   "metadata": {},
   "outputs": [],
   "source": [
    "def prepare_text_for_lda(text):\n",
    "    \n",
    "    \"\"\"\n",
    "    Apply all filter steps to text and filter out stop words\n",
    "    \"\"\"\n",
    "    \n",
    "    tokens = tokenize(text)\n",
    "    tokens = [token for token in tokens if len(token) > 4]\n",
    "    tokens = [token for token in tokens if token not in en_stop]\n",
    "    tokens = [get_lemma(token) for token in tokens]\n",
    "    return tokens"
   ]
  },
  {
   "cell_type": "markdown",
   "metadata": {},
   "source": [
    "Read in working data set."
   ]
  },
  {
   "cell_type": "code",
   "execution_count": null,
   "metadata": {},
   "outputs": [],
   "source": [
    "working_data = pd.read_csv(\"working_data.csv\")"
   ]
  },
  {
   "cell_type": "markdown",
   "metadata": {},
   "source": [
    "Read in titles and get rid of characters."
   ]
  },
  {
   "cell_type": "code",
   "execution_count": 8,
   "metadata": {},
   "outputs": [],
   "source": [
    "working_data = pd.read_csv(\"working_data.csv\")\n",
    "working_data['MonthYear'] = working_data.Year.astype(str) + '-' + working_data.Month.astype(str)\n",
    "\n",
    "abstracts = pd.DataFrame(working_data.Abstract)\n",
    "abstracts['Abstracts_processed'] = working_data.Abstract.str.replace('[,\\.!?]', '',regex=True)"
   ]
  },
  {
   "cell_type": "markdown",
   "metadata": {},
   "source": [
    "Clean up all text to prepare into corpus."
   ]
  },
  {
   "cell_type": "code",
   "execution_count": 9,
   "metadata": {},
   "outputs": [],
   "source": [
    "text_data = []\n",
    "for line in abstracts.Abstracts_processed:\n",
    "    tokens = prepare_text_for_lda(line)\n",
    "    text_data.append(tokens)"
   ]
  },
  {
   "cell_type": "markdown",
   "metadata": {},
   "source": [
    "Create dictionary from data(word: word index).\n",
    "Convert dictionary to bag of words(word index: word count)."
   ]
  },
  {
   "cell_type": "code",
   "execution_count": 10,
   "metadata": {},
   "outputs": [],
   "source": [
    "from gensim import corpora \n",
    "dictionary = corpora.Dictionary(text_data)\n",
    "corpus = [dictionary.doc2bow(text) for text in text_data]\n",
    "\n",
    "import pickle\n",
    "pickle.dump(corpus, open('corpus.pkl', 'wb'))\n",
    "dictionary.save('dictionary.gensim')"
   ]
  },
  {
   "cell_type": "code",
   "execution_count": 15,
   "metadata": {},
   "outputs": [],
   "source": [
    "def get_coherence(num_topics):\n",
    "    \n",
    "    \"\"\"\n",
    "    Get coherence from num_topics\n",
    "    \"\"\"\n",
    "\n",
    "    ldamodel = gensim.models.ldamodel.LdaModel(corpus, num_topics = num_topics, id2word=dictionary, passes=15,eta=0.01)   \n",
    "    coherence_model_lda = CoherenceModel(model=ldamodel, texts=text_data, dictionary=dictionary, coherence='c_v')\n",
    "    coherence_lda = coherence_model_lda.get_coherence()\n",
    "    return coherence_lda"
   ]
  },
  {
   "cell_type": "markdown",
   "metadata": {},
   "source": [
    "Find the optimal number of topics."
   ]
  },
  {
   "cell_type": "code",
   "execution_count": 16,
   "metadata": {},
   "outputs": [],
   "source": [
    "plot=False\n",
    "\n",
    "if plot == True:\n",
    "    plotting_num_topics = []\n",
    "    for i in range(45,48):\n",
    "        coherence = get_coherence(i)\n",
    "        plotting_num_topics.append(coherence)\n",
    "        print(i)\n",
    "        print(coherence)\n",
    "        print(\"\")\n",
    "\n",
    "    with open('coherence_num_topics.txt','wb') as filehandle:\n",
    "        pickle.dump(plotting_num_topics, filehandle)  \n",
    "    \n",
    "    plt.plot(range(45,48), plotting_num_topics)\n",
    "    plt.xlabel('numTopics');\n",
    "    plt.ylabel('Coherence');"
   ]
  },
  {
   "cell_type": "code",
   "execution_count": 378,
   "metadata": {},
   "outputs": [],
   "source": [
    "with open('numTopics_30_45.txt','w') as filehandle:\n",
    "    for listitem in plotting_num_topics:\n",
    "        filehandle.write('%s\\n' % listitem)"
   ]
  },
  {
   "cell_type": "code",
   "execution_count": 377,
   "metadata": {},
   "outputs": [
    {
     "data": {
      "image/png": "[encoded data removed]",
      "text/plain": [
       "<Figure size 432x288 with 1 Axes>"
      ]
     },
     "metadata": {
      "needs_background": "light"
     },
     "output_type": "display_data"
    }
   ],
   "source": [
    "plt.plot(range(30,46), plotting_num_topics)\n",
    "plt.xlabel('numTopics');\n",
    "plt.ylabel('Coherence');\n",
    "plt.xticks(np.arange(30,47,1));"
   ]
  },
  {
   "cell_type": "markdown",
   "metadata": {},
   "source": [
    "Make LDA models with large and small n topics."
   ]
  },
  {
   "cell_type": "code",
   "execution_count": 11,
   "metadata": {},
   "outputs": [],
   "source": [
    "ldamodel_small = gensim.models.ldamodel.LdaModel(corpus, num_topics = 5, id2word=dictionary, passes=15,alpha='auto',eta=0.01,minimum_phi_value=0.01)\n",
    "ldamodel_small.save('paper_model_small.gensim')\n",
    "topics_small = ldamodel_small.print_topics(num_words=4)\n",
    "\n",
    "ldamodel_large = gensim.models.ldamodel.LdaModel(corpus, num_topics = 38, id2word=dictionary, passes=15,alpha='auto',eta=0.01,minimum_phi_value=0.01)\n",
    "ldamodel_large.save('paper_model_large.gensim')\n",
    "topics_large = ldamodel_large.print_topics(num_words=4)"
   ]
  },
  {
   "cell_type": "code",
   "execution_count": 12,
   "metadata": {},
   "outputs": [
    {
     "data": {
      "text/plain": [
       "[(0,\n",
       "  '0.014*\"cancer\" + 0.010*\"mutation\" + 0.008*\"expression\" + 0.007*\"protein\"'),\n",
       " (1, '0.014*\"patient\" + 0.011*\"variant\" + 0.011*\"study\" + 0.009*\"mutation\"'),\n",
       " (2, '0.017*\"gene\" + 0.015*\"expression\" + 0.011*\"identify\" + 0.010*\"study\"'),\n",
       " (3, '0.006*\"genetic\" + 0.005*\"study\" + 0.005*\"strain\" + 0.005*\"result\"'),\n",
       " (4,\n",
       "  '0.015*\"genome\" + 0.011*\"sequence\" + 0.009*\"genetic\" + 0.007*\"population\"')]"
      ]
     },
     "execution_count": 12,
     "metadata": {},
     "output_type": "execute_result"
    }
   ],
   "source": [
    "topics_small"
   ]
  },
  {
   "cell_type": "code",
   "execution_count": 20,
   "metadata": {},
   "outputs": [],
   "source": [
    "def format_topics_sentences(ldamodel, corpus=corpus, texts=text_data):\n",
    "    \n",
    "    \"\"\"\n",
    "    Assign topics to dataset\n",
    "    \"\"\"\n",
    "    # Init output\n",
    "    sent_topics_df = pd.DataFrame()\n",
    "\n",
    "    # Get main topic in each document\n",
    "    for i, row in enumerate(ldamodel[corpus]):\n",
    "        row = sorted(row, key=lambda x: (x[1]), reverse=True)\n",
    "        # Get the Dominant topic, Perc Contribution and Keywords for each document\n",
    "        for j, (topic_num, prop_topic) in enumerate(row):\n",
    "            if j == 0:  # => dominant topic\n",
    "                wp = ldamodel.show_topic(topic_num)\n",
    "                topic_keywords = \", \".join([word for word, prop in wp])\n",
    "                sent_topics_df = sent_topics_df.append(pd.Series([int(topic_num), round(prop_topic,4), topic_keywords]), ignore_index=True)\n",
    "            else:\n",
    "                break\n",
    "    sent_topics_df.columns = ['Dominant_Topic', 'Perc_Contribution', 'Topic_Keywords']\n",
    "\n",
    "    # Add original text to the end of the output\n",
    "    contents = pd.Series(texts)\n",
    "    sent_topics_df = pd.concat([sent_topics_df, contents], axis=1)\n",
    "    return(sent_topics_df)"
   ]
  },
  {
   "cell_type": "markdown",
   "metadata": {},
   "source": [
    "Export topics to dataset to dataframe."
   ]
  },
  {
   "cell_type": "code",
   "execution_count": 123,
   "metadata": {},
   "outputs": [],
   "source": [
    "df_topic_sents_keywords_small = format_topics_sentences(ldamodel=ldamodel_small, corpus=corpus, texts=text_data)\n",
    "df_dominant_topic_small = df_topic_sents_keywords_small.reset_index()\n",
    "df_dominant_topic_small.columns = ['Document_No', 'Dominant_Topic_small', 'Topic_Perc_Contrib_small', 'Keywords_small', 'Text_small']\n",
    "\n",
    "\n",
    "df_topic_sents_keywords_large = format_topics_sentences(ldamodel=ldamodel_large, corpus=corpus, texts=text_data)\n",
    "df_dominant_topic_large = df_topic_sents_keywords_large.reset_index()\n",
    "df_dominant_topic_large.columns = ['Document_No', 'Dominant_Topic_large', 'Topic_Perc_Contrib_large', 'Keywords_large', 'Text_large']"
   ]
  },
  {
   "cell_type": "markdown",
   "metadata": {},
   "source": [
    "Calculate norm contribution\n",
    "(norm_contrib = num_occurances_per_month * avg_perc_contrib)"
   ]
  },
  {
   "cell_type": "code",
   "execution_count": 181,
   "metadata": {},
   "outputs": [],
   "source": [
    "features_small = pd.concat([df_dominant_topic_small,working_data],1)[['Document_No','Dominant_Topic_small','Topic_Perc_Contrib_small','Citations','Accesses','MonthYear','NumAuthors','lenTitle','ImpactFactor','NatureAC','NatureFC']]\n",
    "\n",
    "avg_contrib_per_topic_small = features_small.groupby(['Dominant_Topic_small','MonthYear'])[['Topic_Perc_Contrib_small']].mean()\n",
    "avg_contrib_per_topic_small.columns = ['avg_TPC_small']\n",
    "avg_contrib_per_topic_small = avg_contrib_per_topic_small.reset_index()\n",
    "\n",
    "counts_per_topic_small = features_small.groupby(['Dominant_Topic_small','MonthYear'])[['MonthYear']].count()\n",
    "counts_per_topic_small.columns = ['Counts_small']\n",
    "counts_per_topic_small = counts_per_topic_small.reset_index()\n",
    "\n",
    "norm_contrib_per_topic_small = pd.merge(avg_contrib_per_topic_small,counts_per_topic_small, on=['Dominant_Topic_small','MonthYear'])\n",
    "norm_contrib_per_topic_small['norm_contrib_small'] = norm_contrib_per_topic_small.Counts_small * norm_contrib_per_topic_small.avg_TPC_small"
   ]
  },
  {
   "cell_type": "markdown",
   "metadata": {},
   "source": [
    "Get top 3 most relavent months for each topic - small topic model. Relavence = 3 mfonths with highest norm_contrib, sorted by date"
   ]
  },
  {
   "cell_type": "code",
   "execution_count": 182,
   "metadata": {},
   "outputs": [],
   "source": [
    "topics = norm_contrib_per_topic_small.Dominant_Topic_small.unique()\n",
    "rel_months = []\n",
    "for topic in topics:\n",
    "    month = norm_contrib_per_topic_small[norm_contrib_per_topic_small.Dominant_Topic_small == topic].sort_values(by=['avg_TPC_small'], ascending=False).head(1).MonthYear.values[0]\n",
    "    rel_months.append([topic, month])\n",
    "\n",
    "topic_months_small = pd.DataFrame(rel_months)\n",
    "topic_months_small.columns = ['Dominant_Topic_small','Rank1_month_small']\n",
    "topic_months_small.to_csv(\"topics_small_relavent_months.csv\",index=False)"
   ]
  },
  {
   "cell_type": "markdown",
   "metadata": {},
   "source": [
    "Determine Relevance score."
   ]
  },
  {
   "cell_type": "code",
   "execution_count": 183,
   "metadata": {},
   "outputs": [],
   "source": [
    "features_small = pd.merge(features_small, topic_months_small, on=['Dominant_Topic_small'])\n",
    "features_small = pd.merge(features_small, norm_contrib_per_topic_small, on=['Dominant_Topic_small','MonthYear'])\n",
    "\n",
    "features_small['datetime_MonthYear'] = pd.to_datetime((features_small.MonthYear) + str('-01'), format='%Y-%m-%d')\n",
    "features_small['datetime_Rank1_MonthYear_small'] = pd.to_datetime(features_small.Rank1_month_small+ str('-01'), format='%Y-%m-%d')\n",
    "\n",
    "features_small['delta_Months_small'] = (features_small.datetime_Rank1_MonthYear_small - features_small.datetime_MonthYear).dt.days\n",
    "features_small['delta_AvgTPC_small'] = features_small.avg_TPC_small - features_small.Topic_Perc_Contrib_small\n",
    "\n",
    "\n",
    "\"\"\"\n",
    "Clean up df\n",
    "\"\"\"\n",
    "\n",
    "features_small[['pubYear','pubMonth']]= features_small.MonthYear.str.split('-', expand=True)\n",
    "features_small = features_small.drop(columns=['datetime_MonthYear','datetime_Rank1_MonthYear_small','NatureFC','MonthYear','Rank1_month_small'])\n"
   ]
  },
  {
   "cell_type": "markdown",
   "metadata": {},
   "source": [
    "Calculate norm contribution (norm_contrib = num_occurances_per_month * avg_perc_contrib)"
   ]
  },
  {
   "cell_type": "code",
   "execution_count": 184,
   "metadata": {},
   "outputs": [],
   "source": [
    "features_large = pd.concat([df_dominant_topic_large,working_data],1)[['Document_No','Dominant_Topic_large','Topic_Perc_Contrib_large','Citations','Accesses','MonthYear','NumAuthors','lenTitle','ImpactFactor','NatureAC','NatureFC']]\n",
    "\n",
    "avg_contrib_per_topic_large = features_large.groupby(['Dominant_Topic_large','MonthYear'])[['Topic_Perc_Contrib_large']].mean()\n",
    "avg_contrib_per_topic_large.columns = ['avg_TPC_large']\n",
    "avg_contrib_per_topic_large = avg_contrib_per_topic_large.reset_index()\n",
    "\n",
    "counts_per_topic_large = features_large.groupby(['Dominant_Topic_large','MonthYear'])[['MonthYear']].count()\n",
    "counts_per_topic_large.columns = ['Counts_large']\n",
    "counts_per_topic_large = counts_per_topic_large.reset_index()\n",
    "\n",
    "norm_contrib_per_topic_large = pd.merge(avg_contrib_per_topic_large,counts_per_topic_large, on=['Dominant_Topic_large','MonthYear'])\n",
    "norm_contrib_per_topic_large['norm_contrib_large'] = norm_contrib_per_topic_large.Counts_large * norm_contrib_per_topic_large.avg_TPC_large"
   ]
  },
  {
   "cell_type": "markdown",
   "metadata": {},
   "source": [
    "Get top 3 most relavent months for each topic - large topic model. Relavence = 3 months with highest norm_contrib, sorted by date"
   ]
  },
  {
   "cell_type": "code",
   "execution_count": 185,
   "metadata": {},
   "outputs": [],
   "source": [
    "topics = norm_contrib_per_topic_large.Dominant_Topic_large.unique()\n",
    "rel_months = []\n",
    "for topic in topics:\n",
    "    month = norm_contrib_per_topic_large[norm_contrib_per_topic_large.Dominant_Topic_large == topic].sort_values(by=['avg_TPC_large'], ascending=False).head(1).MonthYear.values[0]\n",
    "    rel_months.append([topic, month])\n",
    "\n",
    "topic_months_large = pd.DataFrame(rel_months)\n",
    "topic_months_large.columns = ['Dominant_Topic_large','Rank1_month_large']\n",
    "topic_months_large.to_csv(\"topics_large_relavent_months.csv\",index=False)"
   ]
  },
  {
   "cell_type": "code",
   "execution_count": 186,
   "metadata": {},
   "outputs": [],
   "source": [
    "features_large = pd.merge(features_large, topic_months_large, on=['Dominant_Topic_large'])\n",
    "features_large = pd.merge(features_large, norm_contrib_per_topic_large, on=['Dominant_Topic_large','MonthYear'])\n",
    "\n",
    "features_large['datetime_MonthYear'] = pd.to_datetime((features_large.MonthYear) + str('-01'), format='%Y-%m-%d')\n",
    "features_large['datetime_Rank1_MonthYear_large'] = pd.to_datetime(features_large.Rank1_month_large+ str('-01'), format='%Y-%m-%d')\n",
    "\n",
    "features_large['delta_Months_large'] = (features_large.datetime_Rank1_MonthYear_large - features_large.datetime_MonthYear).dt.days\n",
    "features_large['delta_AvgTPC_large'] = features_large.avg_TPC_large - features_large.Topic_Perc_Contrib_large\n",
    "\n",
    "\n",
    "\"\"\"\n",
    "Clean up df\n",
    "\"\"\"\n",
    "\n",
    "features_large[['pubYear','pubMonth']]= features_large.MonthYear.str.split('-', expand=True)\n",
    "features_large = features_large.drop(columns=['datetime_MonthYear','datetime_Rank1_MonthYear_large','MonthYear','Rank1_month_large','NatureFC'])"
   ]
  },
  {
   "cell_type": "code",
   "execution_count": 188,
   "metadata": {},
   "outputs": [],
   "source": [
    "features = pd.merge(features_large,features_small,on=['Document_No','Citations','Accesses','NumAuthors','lenTitle','ImpactFactor','NatureAC','pubYear','pubMonth'])"
   ]
  },
  {
   "cell_type": "code",
   "execution_count": 189,
   "metadata": {},
   "outputs": [
    {
     "name": "stdout",
     "output_type": "stream",
     "text": [
      "<class 'pandas.core.frame.DataFrame'>\n",
      "Int64Index: 1774 entries, 0 to 1773\n",
      "Data columns (total 23 columns):\n",
      " #   Column                    Non-Null Count  Dtype  \n",
      "---  ------                    --------------  -----  \n",
      " 0   Document_No               1774 non-null   int64  \n",
      " 1   Dominant_Topic_large      1774 non-null   float64\n",
      " 2   Topic_Perc_Contrib_large  1774 non-null   float64\n",
      " 3   Citations                 1774 non-null   object \n",
      " 4   Accesses                  1774 non-null   object \n",
      " 5   NumAuthors                1774 non-null   int64  \n",
      " 6   lenTitle                  1774 non-null   int64  \n",
      " 7   ImpactFactor              1774 non-null   float64\n",
      " 8   NatureAC                  1774 non-null   int64  \n",
      " 9   avg_TPC_large             1774 non-null   float64\n",
      " 10  Counts_large              1774 non-null   int64  \n",
      " 11  norm_contrib_large        1774 non-null   float64\n",
      " 12  delta_Months_large        1774 non-null   int64  \n",
      " 13  delta_AvgTPC_large        1774 non-null   float64\n",
      " 14  pubYear                   1774 non-null   object \n",
      " 15  pubMonth                  1774 non-null   object \n",
      " 16  Dominant_Topic_small      1774 non-null   float64\n",
      " 17  Topic_Perc_Contrib_small  1774 non-null   float64\n",
      " 18  avg_TPC_small             1774 non-null   float64\n",
      " 19  Counts_small              1774 non-null   int64  \n",
      " 20  norm_contrib_small        1774 non-null   float64\n",
      " 21  delta_Months_small        1774 non-null   int64  \n",
      " 22  delta_AvgTPC_small        1774 non-null   float64\n",
      "dtypes: float64(11), int64(8), object(4)\n",
      "memory usage: 332.6+ KB\n"
     ]
    }
   ],
   "source": [
    "features.info()"
   ]
  },
  {
   "cell_type": "markdown",
   "metadata": {},
   "source": [
    "Create boolean feature for if a journal is in the top publishing ranks in Nature."
   ]
  },
  {
   "cell_type": "code",
   "execution_count": 190,
   "metadata": {},
   "outputs": [],
   "source": [
    "features.NatureAC[features.NatureAC < 141] = 0\n",
    "features.NatureAC[features.NatureAC > 141] = 1"
   ]
  },
  {
   "cell_type": "markdown",
   "metadata": {},
   "source": [
    "Save features to flat file."
   ]
  },
  {
   "cell_type": "code",
   "execution_count": 191,
   "metadata": {},
   "outputs": [],
   "source": [
    "features.to_csv(\"features.csv\",index=False)"
   ]
  },
  {
   "cell_type": "code",
   "execution_count": 178,
   "metadata": {},
   "outputs": [
    {
     "data": {
      "text/html": [
       "<div>\n",
       "<style scoped>\n",
       "    .dataframe tbody tr th:only-of-type {\n",
       "        vertical-align: middle;\n",
       "    }\n",
       "\n",
       "    .dataframe tbody tr th {\n",
       "        vertical-align: top;\n",
       "    }\n",
       "\n",
       "    .dataframe thead th {\n",
       "        text-align: right;\n",
       "    }\n",
       "</style>\n",
       "<table border=\"1\" class=\"dataframe\">\n",
       "  <thead>\n",
       "    <tr style=\"text-align: right;\">\n",
       "      <th></th>\n",
       "      <th>Dominant_Topic_large</th>\n",
       "      <th>Topic_Perc_Contrib_large</th>\n",
       "      <th>Citations</th>\n",
       "      <th>Accesses</th>\n",
       "      <th>NumAuthors</th>\n",
       "      <th>lenTitle</th>\n",
       "      <th>ImpactFactor</th>\n",
       "      <th>NatureAC</th>\n",
       "      <th>avg_TPC_large</th>\n",
       "      <th>Counts_large</th>\n",
       "      <th>...</th>\n",
       "      <th>delta_AvgTPC_large</th>\n",
       "      <th>pubYear</th>\n",
       "      <th>pubMonth</th>\n",
       "      <th>Dominant_Topic_small</th>\n",
       "      <th>Topic_Perc_Contrib_small</th>\n",
       "      <th>avg_TPC_small</th>\n",
       "      <th>Counts_small</th>\n",
       "      <th>norm_contrib_small</th>\n",
       "      <th>delta_Months_small</th>\n",
       "      <th>delta_AvgTPC_small</th>\n",
       "    </tr>\n",
       "  </thead>\n",
       "  <tbody>\n",
       "    <tr>\n",
       "      <th>0</th>\n",
       "      <td>22.0</td>\n",
       "      <td>0.7866</td>\n",
       "      <td>4</td>\n",
       "      <td>1030</td>\n",
       "      <td>7</td>\n",
       "      <td>15</td>\n",
       "      <td>4.011</td>\n",
       "      <td>False</td>\n",
       "      <td>0.591850</td>\n",
       "      <td>6</td>\n",
       "      <td>...</td>\n",
       "      <td>-0.194750</td>\n",
       "      <td>2018</td>\n",
       "      <td>5</td>\n",
       "      <td>2.0</td>\n",
       "      <td>0.9973</td>\n",
       "      <td>0.802729</td>\n",
       "      <td>21</td>\n",
       "      <td>16.8573</td>\n",
       "      <td>-30</td>\n",
       "      <td>-0.194571</td>\n",
       "    </tr>\n",
       "    <tr>\n",
       "      <th>1</th>\n",
       "      <td>22.0</td>\n",
       "      <td>0.7698</td>\n",
       "      <td>9</td>\n",
       "      <td>1139</td>\n",
       "      <td>5</td>\n",
       "      <td>13</td>\n",
       "      <td>4.011</td>\n",
       "      <td>False</td>\n",
       "      <td>0.591850</td>\n",
       "      <td>6</td>\n",
       "      <td>...</td>\n",
       "      <td>-0.177950</td>\n",
       "      <td>2018</td>\n",
       "      <td>5</td>\n",
       "      <td>0.0</td>\n",
       "      <td>0.9975</td>\n",
       "      <td>0.907250</td>\n",
       "      <td>4</td>\n",
       "      <td>3.6290</td>\n",
       "      <td>-30</td>\n",
       "      <td>-0.090250</td>\n",
       "    </tr>\n",
       "    <tr>\n",
       "      <th>2</th>\n",
       "      <td>22.0</td>\n",
       "      <td>0.4653</td>\n",
       "      <td>2</td>\n",
       "      <td>1071</td>\n",
       "      <td>9</td>\n",
       "      <td>14</td>\n",
       "      <td>4.011</td>\n",
       "      <td>False</td>\n",
       "      <td>0.591850</td>\n",
       "      <td>6</td>\n",
       "      <td>...</td>\n",
       "      <td>0.126550</td>\n",
       "      <td>2018</td>\n",
       "      <td>5</td>\n",
       "      <td>1.0</td>\n",
       "      <td>0.5147</td>\n",
       "      <td>0.746611</td>\n",
       "      <td>9</td>\n",
       "      <td>6.7195</td>\n",
       "      <td>-30</td>\n",
       "      <td>0.231911</td>\n",
       "    </tr>\n",
       "    <tr>\n",
       "      <th>3</th>\n",
       "      <td>22.0</td>\n",
       "      <td>0.5543</td>\n",
       "      <td>16</td>\n",
       "      <td>1766</td>\n",
       "      <td>15</td>\n",
       "      <td>9</td>\n",
       "      <td>11.878</td>\n",
       "      <td>False</td>\n",
       "      <td>0.591850</td>\n",
       "      <td>6</td>\n",
       "      <td>...</td>\n",
       "      <td>0.037550</td>\n",
       "      <td>2018</td>\n",
       "      <td>5</td>\n",
       "      <td>3.0</td>\n",
       "      <td>0.4053</td>\n",
       "      <td>0.757283</td>\n",
       "      <td>23</td>\n",
       "      <td>17.4175</td>\n",
       "      <td>-30</td>\n",
       "      <td>0.351983</td>\n",
       "    </tr>\n",
       "    <tr>\n",
       "      <th>4</th>\n",
       "      <td>22.0</td>\n",
       "      <td>0.3169</td>\n",
       "      <td>23</td>\n",
       "      <td>2922</td>\n",
       "      <td>27</td>\n",
       "      <td>17</td>\n",
       "      <td>25.455</td>\n",
       "      <td>True</td>\n",
       "      <td>0.591850</td>\n",
       "      <td>6</td>\n",
       "      <td>...</td>\n",
       "      <td>0.274950</td>\n",
       "      <td>2018</td>\n",
       "      <td>5</td>\n",
       "      <td>0.0</td>\n",
       "      <td>0.9976</td>\n",
       "      <td>0.907250</td>\n",
       "      <td>4</td>\n",
       "      <td>3.6290</td>\n",
       "      <td>-30</td>\n",
       "      <td>-0.090350</td>\n",
       "    </tr>\n",
       "    <tr>\n",
       "      <th>...</th>\n",
       "      <td>...</td>\n",
       "      <td>...</td>\n",
       "      <td>...</td>\n",
       "      <td>...</td>\n",
       "      <td>...</td>\n",
       "      <td>...</td>\n",
       "      <td>...</td>\n",
       "      <td>...</td>\n",
       "      <td>...</td>\n",
       "      <td>...</td>\n",
       "      <td>...</td>\n",
       "      <td>...</td>\n",
       "      <td>...</td>\n",
       "      <td>...</td>\n",
       "      <td>...</td>\n",
       "      <td>...</td>\n",
       "      <td>...</td>\n",
       "      <td>...</td>\n",
       "      <td>...</td>\n",
       "      <td>...</td>\n",
       "      <td>...</td>\n",
       "    </tr>\n",
       "    <tr>\n",
       "      <th>1769</th>\n",
       "      <td>13.0</td>\n",
       "      <td>0.9934</td>\n",
       "      <td>12</td>\n",
       "      <td>6536</td>\n",
       "      <td>10</td>\n",
       "      <td>9</td>\n",
       "      <td>4.011</td>\n",
       "      <td>False</td>\n",
       "      <td>0.844467</td>\n",
       "      <td>3</td>\n",
       "      <td>...</td>\n",
       "      <td>-0.148933</td>\n",
       "      <td>2017</td>\n",
       "      <td>7</td>\n",
       "      <td>3.0</td>\n",
       "      <td>0.9980</td>\n",
       "      <td>0.844480</td>\n",
       "      <td>15</td>\n",
       "      <td>12.6672</td>\n",
       "      <td>274</td>\n",
       "      <td>-0.153520</td>\n",
       "    </tr>\n",
       "    <tr>\n",
       "      <th>1770</th>\n",
       "      <td>13.0</td>\n",
       "      <td>0.8378</td>\n",
       "      <td>5</td>\n",
       "      <td>352</td>\n",
       "      <td>14</td>\n",
       "      <td>7</td>\n",
       "      <td>3.179</td>\n",
       "      <td>False</td>\n",
       "      <td>0.844467</td>\n",
       "      <td>3</td>\n",
       "      <td>...</td>\n",
       "      <td>0.006667</td>\n",
       "      <td>2017</td>\n",
       "      <td>7</td>\n",
       "      <td>0.0</td>\n",
       "      <td>0.7978</td>\n",
       "      <td>0.858991</td>\n",
       "      <td>11</td>\n",
       "      <td>9.4489</td>\n",
       "      <td>274</td>\n",
       "      <td>0.061191</td>\n",
       "    </tr>\n",
       "    <tr>\n",
       "      <th>1771</th>\n",
       "      <td>13.0</td>\n",
       "      <td>0.8373</td>\n",
       "      <td>36</td>\n",
       "      <td>3664</td>\n",
       "      <td>81</td>\n",
       "      <td>15</td>\n",
       "      <td>11.878</td>\n",
       "      <td>False</td>\n",
       "      <td>0.837300</td>\n",
       "      <td>1</td>\n",
       "      <td>...</td>\n",
       "      <td>0.000000</td>\n",
       "      <td>2018</td>\n",
       "      <td>6</td>\n",
       "      <td>1.0</td>\n",
       "      <td>0.9979</td>\n",
       "      <td>0.883557</td>\n",
       "      <td>7</td>\n",
       "      <td>6.1849</td>\n",
       "      <td>-61</td>\n",
       "      <td>-0.114343</td>\n",
       "    </tr>\n",
       "    <tr>\n",
       "      <th>1772</th>\n",
       "      <td>13.0</td>\n",
       "      <td>0.9952</td>\n",
       "      <td>4</td>\n",
       "      <td>335</td>\n",
       "      <td>6</td>\n",
       "      <td>9</td>\n",
       "      <td>3.179</td>\n",
       "      <td>True</td>\n",
       "      <td>0.995200</td>\n",
       "      <td>1</td>\n",
       "      <td>...</td>\n",
       "      <td>0.000000</td>\n",
       "      <td>2018</td>\n",
       "      <td>5</td>\n",
       "      <td>3.0</td>\n",
       "      <td>0.8663</td>\n",
       "      <td>0.757283</td>\n",
       "      <td>23</td>\n",
       "      <td>17.4175</td>\n",
       "      <td>-30</td>\n",
       "      <td>-0.109017</td>\n",
       "    </tr>\n",
       "    <tr>\n",
       "      <th>1773</th>\n",
       "      <td>13.0</td>\n",
       "      <td>0.6993</td>\n",
       "      <td>16</td>\n",
       "      <td>1449</td>\n",
       "      <td>9</td>\n",
       "      <td>17</td>\n",
       "      <td>3.640</td>\n",
       "      <td>False</td>\n",
       "      <td>0.699300</td>\n",
       "      <td>1</td>\n",
       "      <td>...</td>\n",
       "      <td>0.000000</td>\n",
       "      <td>2017</td>\n",
       "      <td>12</td>\n",
       "      <td>1.0</td>\n",
       "      <td>0.9988</td>\n",
       "      <td>0.805733</td>\n",
       "      <td>30</td>\n",
       "      <td>24.1720</td>\n",
       "      <td>121</td>\n",
       "      <td>-0.193067</td>\n",
       "    </tr>\n",
       "  </tbody>\n",
       "</table>\n",
       "<p>1774 rows × 22 columns</p>\n",
       "</div>"
      ],
      "text/plain": [
       "      Dominant_Topic_large  Topic_Perc_Contrib_large Citations Accesses  \\\n",
       "0                     22.0                    0.7866         4     1030   \n",
       "1                     22.0                    0.7698         9     1139   \n",
       "2                     22.0                    0.4653         2     1071   \n",
       "3                     22.0                    0.5543        16     1766   \n",
       "4                     22.0                    0.3169        23     2922   \n",
       "...                    ...                       ...       ...      ...   \n",
       "1769                  13.0                    0.9934        12     6536   \n",
       "1770                  13.0                    0.8378         5      352   \n",
       "1771                  13.0                    0.8373        36     3664   \n",
       "1772                  13.0                    0.9952         4      335   \n",
       "1773                  13.0                    0.6993        16     1449   \n",
       "\n",
       "      NumAuthors  lenTitle  ImpactFactor NatureAC  avg_TPC_large  \\\n",
       "0              7        15         4.011    False       0.591850   \n",
       "1              5        13         4.011    False       0.591850   \n",
       "2              9        14         4.011    False       0.591850   \n",
       "3             15         9        11.878    False       0.591850   \n",
       "4             27        17        25.455     True       0.591850   \n",
       "...          ...       ...           ...      ...            ...   \n",
       "1769          10         9         4.011    False       0.844467   \n",
       "1770          14         7         3.179    False       0.844467   \n",
       "1771          81        15        11.878    False       0.837300   \n",
       "1772           6         9         3.179     True       0.995200   \n",
       "1773           9        17         3.640    False       0.699300   \n",
       "\n",
       "      Counts_large  ...  delta_AvgTPC_large  pubYear  pubMonth  \\\n",
       "0                6  ...           -0.194750     2018         5   \n",
       "1                6  ...           -0.177950     2018         5   \n",
       "2                6  ...            0.126550     2018         5   \n",
       "3                6  ...            0.037550     2018         5   \n",
       "4                6  ...            0.274950     2018         5   \n",
       "...            ...  ...                 ...      ...       ...   \n",
       "1769             3  ...           -0.148933     2017         7   \n",
       "1770             3  ...            0.006667     2017         7   \n",
       "1771             1  ...            0.000000     2018         6   \n",
       "1772             1  ...            0.000000     2018         5   \n",
       "1773             1  ...            0.000000     2017        12   \n",
       "\n",
       "     Dominant_Topic_small Topic_Perc_Contrib_small  avg_TPC_small  \\\n",
       "0                     2.0                   0.9973       0.802729   \n",
       "1                     0.0                   0.9975       0.907250   \n",
       "2                     1.0                   0.5147       0.746611   \n",
       "3                     3.0                   0.4053       0.757283   \n",
       "4                     0.0                   0.9976       0.907250   \n",
       "...                   ...                      ...            ...   \n",
       "1769                  3.0                   0.9980       0.844480   \n",
       "1770                  0.0                   0.7978       0.858991   \n",
       "1771                  1.0                   0.9979       0.883557   \n",
       "1772                  3.0                   0.8663       0.757283   \n",
       "1773                  1.0                   0.9988       0.805733   \n",
       "\n",
       "      Counts_small  norm_contrib_small  delta_Months_small  delta_AvgTPC_small  \n",
       "0               21             16.8573                 -30           -0.194571  \n",
       "1                4              3.6290                 -30           -0.090250  \n",
       "2                9              6.7195                 -30            0.231911  \n",
       "3               23             17.4175                 -30            0.351983  \n",
       "4                4              3.6290                 -30           -0.090350  \n",
       "...            ...                 ...                 ...                 ...  \n",
       "1769            15             12.6672                 274           -0.153520  \n",
       "1770            11              9.4489                 274            0.061191  \n",
       "1771             7              6.1849                 -61           -0.114343  \n",
       "1772            23             17.4175                 -30           -0.109017  \n",
       "1773            30             24.1720                 121           -0.193067  \n",
       "\n",
       "[1774 rows x 22 columns]"
      ]
     },
     "execution_count": 178,
     "metadata": {},
     "output_type": "execute_result"
    }
   ],
   "source": [
    "features"
   ]
  },
  {
   "cell_type": "code",
   "execution_count": null,
   "metadata": {},
   "outputs": [],
   "source": []
  }
 ],
 "metadata": {
  "kernelspec": {
   "display_name": "Python 3",
   "language": "python",
   "name": "python3"
  },
  "language_info": {
   "codemirror_mode": {
    "name": "ipython",
    "version": 3
   },
   "file_extension": ".py",
   "mimetype": "text/x-python",
   "name": "python",
   "nbconvert_exporter": "python",
   "pygments_lexer": "ipython3",
   "version": "3.7.6"
  }
 },
 "nbformat": 4,
 "nbformat_minor": 4
}
