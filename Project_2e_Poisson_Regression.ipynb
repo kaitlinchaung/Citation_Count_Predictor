{
 "cells": [
  {
   "cell_type": "code",
   "execution_count": 11,
   "metadata": {},
   "outputs": [
    {
     "data": {
      "text/html": [
       "<style>.container { width:100% !important; }</style>"
      ],
      "text/plain": [
       "<IPython.core.display.HTML object>"
      ]
     },
     "metadata": {},
     "output_type": "display_data"
    }
   ],
   "source": [
    "import pandas as pd\n",
    "import numpy as np\n",
    "import statsmodels.api as sm\n",
    "import statsmodels.formula.api as smf\n",
    "import patsy\n",
    "\n",
    "import seaborn as sns\n",
    "import matplotlib.pyplot as plt\n",
    "from sklearn.linear_model import LinearRegression\n",
    "from sklearn.linear_model import RidgeCV\n",
    "%matplotlib inline\n",
    "\n",
    "from sklearn.model_selection import train_test_split\n",
    "\n",
    "import scipy.stats as stats\n",
    "\n",
    "from sklearn.pipeline import Pipeline\n",
    "from sklearn.preprocessing import StandardScaler\n",
    "\n",
    "from IPython.core.display import display, HTML\n",
    "display(HTML(\"<style>.container { width:100% !important; }</style>\"))\n",
    "\n",
    "from sklearn.model_selection import train_test_split\n",
    "from sklearn.linear_model import LinearRegression, Lasso, LassoCV, Ridge, RidgeCV\n",
    "from sklearn.metrics import r2_score\n",
    "\n",
    "from sklearn.metrics import mean_squared_error\n",
    "from math import sqrt\n",
    "from sklearn.model_selection import KFold\n",
    "\n",
    "from sklearn.metrics import mean_squared_error\n",
    "\n",
    "\n",
    "import os\n",
    "from matplotlib import font_manager as fm\n",
    "import matplotlib.patches as mpatches\n",
    "from matplotlib.lines import Line2D"
   ]
  },
  {
   "cell_type": "markdown",
   "metadata": {},
   "source": [
    "## Modeling citation count with the Poisson distribution"
   ]
  },
  {
   "cell_type": "code",
   "execution_count": 12,
   "metadata": {},
   "outputs": [],
   "source": [
    "#Mean Absolute Error (MAE)\n",
    "def mae(y_true, y_pred):\n",
    "    return np.mean(np.abs(y_pred - y_true)) \n"
   ]
  },
  {
   "cell_type": "markdown",
   "metadata": {},
   "source": [
    "Read in data and add dummies for Dominant_Topic_small."
   ]
  },
  {
   "cell_type": "code",
   "execution_count": 14,
   "metadata": {},
   "outputs": [],
   "source": [
    "df = pd.read_csv(\"features.csv\")\n",
    "\n",
    "df = df[~df.Citations.str.contains('Data')]\n",
    "df.Accesses = df.Accesses.str.replace('k','000',regex=True)\n",
    "\n",
    "df.Citations = df.Citations.astype('int64')\n",
    "df.Accesses = df.Accesses.astype('int64')\n",
    "df = df.drop(['Document_No'],1)\n",
    "\n",
    "dummies = pd.get_dummies(df.Dominant_Topic_small)\n",
    "df = pd.concat([df,dummies],1)"
   ]
  },
  {
   "cell_type": "markdown",
   "metadata": {},
   "source": [
    "Keep positive coef features."
   ]
  },
  {
   "cell_type": "code",
   "execution_count": 15,
   "metadata": {},
   "outputs": [
    {
     "name": "stdout",
     "output_type": "stream",
     "text": [
      "<class 'pandas.core.frame.DataFrame'>\n",
      "Int64Index: 1770 entries, 0 to 1773\n",
      "Data columns (total 12 columns):\n",
      " #   Column                Non-Null Count  Dtype  \n",
      "---  ------                --------------  -----  \n",
      " 0   NumAuthors            1770 non-null   int64  \n",
      " 1   ImpactFactor          1770 non-null   float64\n",
      " 2   NatureAC              1770 non-null   int64  \n",
      " 3   Counts_large          1770 non-null   int64  \n",
      " 4   delta_Months_large    1770 non-null   int64  \n",
      " 5   delta_AvgTPC_large    1770 non-null   float64\n",
      " 6   Dominant_Topic_small  1770 non-null   float64\n",
      " 7   avg_TPC_small         1770 non-null   float64\n",
      " 8   delta_AvgTPC_small    1770 non-null   float64\n",
      " 9   1.0                   1770 non-null   uint8  \n",
      " 10  3.0                   1770 non-null   uint8  \n",
      " 11  4.0                   1770 non-null   uint8  \n",
      "dtypes: float64(5), int64(4), uint8(3)\n",
      "memory usage: 143.5 KB\n"
     ]
    }
   ],
   "source": [
    "y = df.Citations\n",
    "X = df.drop(['Accesses','Citations','lenTitle','pubYear','pubMonth','Dominant_Topic_large','Topic_Perc_Contrib_large','avg_TPC_large','norm_contrib_large','Topic_Perc_Contrib_small','Counts_small','norm_contrib_small','delta_Months_small',2.0,0.0],1)\n",
    "\n",
    "X.info()"
   ]
  },
  {
   "cell_type": "markdown",
   "metadata": {},
   "source": [
    "Train/test split and scale features."
   ]
  },
  {
   "cell_type": "code",
   "execution_count": 16,
   "metadata": {},
   "outputs": [],
   "source": [
    "X_train, X_test, y_train, y_test = train_test_split(X, y, test_size=.2, random_state=10)"
   ]
  },
  {
   "cell_type": "code",
   "execution_count": 17,
   "metadata": {},
   "outputs": [],
   "source": [
    "std = StandardScaler()\n",
    "std.fit(X_train.values)\n",
    "\n",
    "X_tr = std.transform(X_train)\n",
    "X_te = std.transform(X_test)"
   ]
  },
  {
   "cell_type": "markdown",
   "metadata": {},
   "source": [
    "Fit model to Poisson distribution."
   ]
  },
  {
   "cell_type": "code",
   "execution_count": 48,
   "metadata": {},
   "outputs": [
    {
     "data": {
      "text/html": [
       "<table class=\"simpletable\">\n",
       "<caption>Generalized Linear Model Regression Results</caption>\n",
       "<tr>\n",
       "  <th>Dep. Variable:</th>       <td>Citations</td>    <th>  No. Observations:  </th>  <td>  1416</td> \n",
       "</tr>\n",
       "<tr>\n",
       "  <th>Model:</th>                  <td>GLM</td>       <th>  Df Residuals:      </th>  <td>  1404</td> \n",
       "</tr>\n",
       "<tr>\n",
       "  <th>Model Family:</th>         <td>Poisson</td>     <th>  Df Model:          </th>  <td>    11</td> \n",
       "</tr>\n",
       "<tr>\n",
       "  <th>Link Function:</th>          <td>log</td>       <th>  Scale:             </th> <td>  1.0000</td>\n",
       "</tr>\n",
       "<tr>\n",
       "  <th>Method:</th>                <td>IRLS</td>       <th>  Log-Likelihood:    </th> <td> -44609.</td>\n",
       "</tr>\n",
       "<tr>\n",
       "  <th>Date:</th>            <td>Fri, 17 Jul 2020</td> <th>  Deviance:          </th> <td>  83599.</td>\n",
       "</tr>\n",
       "<tr>\n",
       "  <th>Time:</th>                <td>08:51:27</td>     <th>  Pearson chi2:      </th> <td>6.01e+05</td>\n",
       "</tr>\n",
       "<tr>\n",
       "  <th>No. Iterations:</th>          <td>8</td>        <th>                     </th>     <td> </td>   \n",
       "</tr>\n",
       "<tr>\n",
       "  <th>Covariance Type:</th>     <td>nonrobust</td>    <th>                     </th>     <td> </td>   \n",
       "</tr>\n",
       "</table>\n",
       "<table class=\"simpletable\">\n",
       "<tr>\n",
       "   <td></td>      <th>coef</th>     <th>std err</th>      <th>z</th>      <th>P>|z|</th>  <th>[0.025</th>    <th>0.975]</th>  \n",
       "</tr>\n",
       "<tr>\n",
       "  <th>x1</th>  <td>    0.1423</td> <td>    0.003</td> <td>   47.513</td> <td> 0.000</td> <td>    0.136</td> <td>    0.148</td>\n",
       "</tr>\n",
       "<tr>\n",
       "  <th>x2</th>  <td>    1.1399</td> <td>    0.004</td> <td>  323.130</td> <td> 0.000</td> <td>    1.133</td> <td>    1.147</td>\n",
       "</tr>\n",
       "<tr>\n",
       "  <th>x3</th>  <td>    0.0247</td> <td>    0.012</td> <td>    2.002</td> <td> 0.045</td> <td>    0.001</td> <td>    0.049</td>\n",
       "</tr>\n",
       "<tr>\n",
       "  <th>x4</th>  <td>    0.4611</td> <td>    0.012</td> <td>   38.524</td> <td> 0.000</td> <td>    0.438</td> <td>    0.485</td>\n",
       "</tr>\n",
       "<tr>\n",
       "  <th>x5</th>  <td>    0.0050</td> <td>    0.013</td> <td>    0.378</td> <td> 0.705</td> <td>   -0.021</td> <td>    0.031</td>\n",
       "</tr>\n",
       "<tr>\n",
       "  <th>x6</th>  <td>    0.2808</td> <td>    0.011</td> <td>   25.505</td> <td> 0.000</td> <td>    0.259</td> <td>    0.302</td>\n",
       "</tr>\n",
       "<tr>\n",
       "  <th>x7</th>  <td>    0.1219</td> <td>    0.043</td> <td>    2.852</td> <td> 0.004</td> <td>    0.038</td> <td>    0.206</td>\n",
       "</tr>\n",
       "<tr>\n",
       "  <th>x8</th>  <td>    0.0134</td> <td>    0.015</td> <td>    0.909</td> <td> 0.363</td> <td>   -0.016</td> <td>    0.042</td>\n",
       "</tr>\n",
       "<tr>\n",
       "  <th>x9</th>  <td>    0.2620</td> <td>    0.011</td> <td>   24.779</td> <td> 0.000</td> <td>    0.241</td> <td>    0.283</td>\n",
       "</tr>\n",
       "<tr>\n",
       "  <th>x10</th> <td>    0.4122</td> <td>    0.016</td> <td>   26.085</td> <td> 0.000</td> <td>    0.381</td> <td>    0.443</td>\n",
       "</tr>\n",
       "<tr>\n",
       "  <th>x11</th> <td>    0.2945</td> <td>    0.031</td> <td>    9.502</td> <td> 0.000</td> <td>    0.234</td> <td>    0.355</td>\n",
       "</tr>\n",
       "<tr>\n",
       "  <th>x12</th> <td>    0.5386</td> <td>    0.041</td> <td>   12.981</td> <td> 0.000</td> <td>    0.457</td> <td>    0.620</td>\n",
       "</tr>\n",
       "</table>"
      ],
      "text/plain": [
       "<class 'statsmodels.iolib.summary.Summary'>\n",
       "\"\"\"\n",
       "                 Generalized Linear Model Regression Results                  \n",
       "==============================================================================\n",
       "Dep. Variable:              Citations   No. Observations:                 1416\n",
       "Model:                            GLM   Df Residuals:                     1404\n",
       "Model Family:                 Poisson   Df Model:                           11\n",
       "Link Function:                    log   Scale:                          1.0000\n",
       "Method:                          IRLS   Log-Likelihood:                -44609.\n",
       "Date:                Fri, 17 Jul 2020   Deviance:                       83599.\n",
       "Time:                        08:51:27   Pearson chi2:                 6.01e+05\n",
       "No. Iterations:                     8                                         \n",
       "Covariance Type:            nonrobust                                         \n",
       "==============================================================================\n",
       "                 coef    std err          z      P>|z|      [0.025      0.975]\n",
       "------------------------------------------------------------------------------\n",
       "x1             0.1423      0.003     47.513      0.000       0.136       0.148\n",
       "x2             1.1399      0.004    323.130      0.000       1.133       1.147\n",
       "x3             0.0247      0.012      2.002      0.045       0.001       0.049\n",
       "x4             0.4611      0.012     38.524      0.000       0.438       0.485\n",
       "x5             0.0050      0.013      0.378      0.705      -0.021       0.031\n",
       "x6             0.2808      0.011     25.505      0.000       0.259       0.302\n",
       "x7             0.1219      0.043      2.852      0.004       0.038       0.206\n",
       "x8             0.0134      0.015      0.909      0.363      -0.016       0.042\n",
       "x9             0.2620      0.011     24.779      0.000       0.241       0.283\n",
       "x10            0.4122      0.016     26.085      0.000       0.381       0.443\n",
       "x11            0.2945      0.031      9.502      0.000       0.234       0.355\n",
       "x12            0.5386      0.041     12.981      0.000       0.457       0.620\n",
       "==============================================================================\n",
       "\"\"\""
      ]
     },
     "execution_count": 48,
     "metadata": {},
     "output_type": "execute_result"
    }
   ],
   "source": [
    "model = sm.GLM(y_train, X_tr, family=sm.families.Poisson())\n",
    "fit = model.fit()\n",
    "fit.summary()"
   ]
  },
  {
   "cell_type": "code",
   "execution_count": 53,
   "metadata": {},
   "outputs": [
    {
     "data": {
      "text/html": [
       "<div>\n",
       "<style scoped>\n",
       "    .dataframe tbody tr th:only-of-type {\n",
       "        vertical-align: middle;\n",
       "    }\n",
       "\n",
       "    .dataframe tbody tr th {\n",
       "        vertical-align: top;\n",
       "    }\n",
       "\n",
       "    .dataframe thead th {\n",
       "        text-align: right;\n",
       "    }\n",
       "</style>\n",
       "<table border=\"1\" class=\"dataframe\">\n",
       "  <thead>\n",
       "    <tr style=\"text-align: right;\">\n",
       "      <th></th>\n",
       "      <th>Feature</th>\n",
       "      <th>Coef</th>\n",
       "    </tr>\n",
       "  </thead>\n",
       "  <tbody>\n",
       "    <tr>\n",
       "      <th>0</th>\n",
       "      <td>ImpactFactor</td>\n",
       "      <td>1.139872</td>\n",
       "    </tr>\n",
       "    <tr>\n",
       "      <th>1</th>\n",
       "      <td>4.0</td>\n",
       "      <td>0.538597</td>\n",
       "    </tr>\n",
       "    <tr>\n",
       "      <th>2</th>\n",
       "      <td>Counts_large</td>\n",
       "      <td>0.461066</td>\n",
       "    </tr>\n",
       "    <tr>\n",
       "      <th>3</th>\n",
       "      <td>1.0</td>\n",
       "      <td>0.412202</td>\n",
       "    </tr>\n",
       "    <tr>\n",
       "      <th>4</th>\n",
       "      <td>3.0</td>\n",
       "      <td>0.294487</td>\n",
       "    </tr>\n",
       "    <tr>\n",
       "      <th>5</th>\n",
       "      <td>delta_AvgTPC_large</td>\n",
       "      <td>0.280791</td>\n",
       "    </tr>\n",
       "    <tr>\n",
       "      <th>6</th>\n",
       "      <td>delta_AvgTPC_small</td>\n",
       "      <td>0.262021</td>\n",
       "    </tr>\n",
       "    <tr>\n",
       "      <th>7</th>\n",
       "      <td>NumAuthors</td>\n",
       "      <td>0.142350</td>\n",
       "    </tr>\n",
       "    <tr>\n",
       "      <th>8</th>\n",
       "      <td>Dominant_Topic_small</td>\n",
       "      <td>0.121903</td>\n",
       "    </tr>\n",
       "  </tbody>\n",
       "</table>\n",
       "</div>"
      ],
      "text/plain": [
       "                Feature      Coef\n",
       "0          ImpactFactor  1.139872\n",
       "1                   4.0  0.538597\n",
       "2          Counts_large  0.461066\n",
       "3                   1.0  0.412202\n",
       "4                   3.0  0.294487\n",
       "5    delta_AvgTPC_large  0.280791\n",
       "6    delta_AvgTPC_small  0.262021\n",
       "7            NumAuthors  0.142350\n",
       "8  Dominant_Topic_small  0.121903"
      ]
     },
     "execution_count": 53,
     "metadata": {},
     "output_type": "execute_result"
    }
   ],
   "source": [
    "Coef = fit.params.reset_index(drop=True)\n",
    "Feature = pd.Series(X.columns).astype(str).reset_index(drop=True)\n",
    "top_coeffs = pd.concat([Feature, Coef],1)\n",
    "top_coeffs.columns = (['Feature','Coef'])\n",
    "top_coeffs = top_coeffs.sort_values(by=['Coef'],ascending=False).reset_index(drop=True)\n",
    "topcoeffs = top_coeffs.head(9)\n",
    "topcoeffs"
   ]
  },
  {
   "cell_type": "markdown",
   "metadata": {},
   "source": [
    "Visualize beta coefficient values for features."
   ]
  },
  {
   "cell_type": "code",
   "execution_count": 55,
   "metadata": {},
   "outputs": [
    {
     "data": {
      "image/png": "[encoded data removed]",
      "text/plain": [
       "<Figure size 1440x1440 with 1 Axes>"
      ]
     },
     "metadata": {
      "needs_background": "light"
     },
     "output_type": "display_data"
    }
   ],
   "source": [
    "prop = fm.FontProperties(fname = '/Users/kaitlinchaung/Desktop/roboto/RobotoCondensed-Regular.ttf', size=28)\n",
    "plt.figure(figsize=[20,20])\n",
    "\n",
    "ind = np.arange(len(topcoeffs.Feature))[::-1]\n",
    "labels = ['Journal Impact Factor',\n",
    "          'Topic: Sequencing and Population Genetics',\n",
    "          'Num MetaTopic Papers Published in Same Month',\n",
    "          'Topic: Gene Variants and Mutations',\n",
    "          'Topic: Genetic Study Results',\n",
    "          'MetaTopic Average TPC Similarity',\n",
    "          'SubTopic Average TPC Similarity',\n",
    "          'Number of Authors',\n",
    "         'Subtopic average TPC']\n",
    "plt.tight_layout()\n",
    "\n",
    "plt.barh(topcoeffs.Feature[::-1],topcoeffs.Coef[::-1],color='grey')\n",
    "plt.xticks([]);\n",
    "plt.yticks(ind,labels=labels, fontproperties=prop, size=28)\n",
    "plt.xlabel(\"Beta Coeffient\",fontsize=40,fontproperties=prop, size=40,labelpad=-40)\n",
    "\n",
    "plt.box(False)\n",
    "plt.savefig('feature_importance.png',transparent=True,dpi=250, bbox_inches = \"tight\")"
   ]
  },
  {
   "cell_type": "code",
   "execution_count": 13,
   "metadata": {},
   "outputs": [],
   "source": [
    "df['predict'] = fit.predict(X_test)\n",
    "df['resid'] = y_test - df.predict"
   ]
  },
  {
   "cell_type": "code",
   "execution_count": 19,
   "metadata": {},
   "outputs": [
    {
     "data": {
      "text/plain": [
       "<Figure size 432x288 with 0 Axes>"
      ]
     },
     "metadata": {},
     "output_type": "display_data"
    },
    {
     "data": {
      "image/png": "[encoded data removed]",
      "text/plain": [
       "<Figure size 432x288 with 1 Axes>"
      ]
     },
     "metadata": {
      "needs_background": "light"
     },
     "output_type": "display_data"
    }
   ],
   "source": [
    "plt.clf()\n",
    "fig = plt.figure()\n",
    "fig.suptitle('Scatter plot of Actual versus Predicted counts')\n",
    "plt.scatter(x=predicted_counts, y=actual_counts, marker='.')\n",
    "plt.xlabel('Predicted counts')\n",
    "plt.ylabel('Actual counts')\n",
    "plt.xlim(0,40)\n",
    "plt.ylim(0,40)\n",
    "plt.show()"
   ]
  },
  {
   "cell_type": "markdown",
   "metadata": {},
   "source": [
    "Predicted vs actual."
   ]
  },
  {
   "cell_type": "code",
   "execution_count": 15,
   "metadata": {},
   "outputs": [],
   "source": [
    "poisson_training_results = sm.GLM(y_train, X_train, family=sm.families.Poisson()).fit()\n",
    "\n",
    "poisson_predictions = poisson_training_results.get_prediction(X_test)\n",
    "predictions_summary_frame = poisson_predictions.summary_frame()\n",
    "\n",
    "predicted_counts=predictions_summary_frame['mean'].reset_index(drop=True)\n",
    "actual_counts = y_test.reset_index(drop=True)"
   ]
  },
  {
   "cell_type": "code",
   "execution_count": 17,
   "metadata": {},
   "outputs": [],
   "source": [
    "predicted_counts=predictions_summary_frame['mean'].reset_index(drop=True)\n",
    "actual_counts = y_test.reset_index(drop=True)"
   ]
  },
  {
   "cell_type": "markdown",
   "metadata": {},
   "source": [
    "MSE"
   ]
  },
  {
   "cell_type": "code",
   "execution_count": 20,
   "metadata": {},
   "outputs": [
    {
     "data": {
      "text/plain": [
       "30.163648052182445"
      ]
     },
     "execution_count": 20,
     "metadata": {},
     "output_type": "execute_result"
    }
   ],
   "source": [
    "sqrt(mean_squared_error(actual_counts,predicted_counts))"
   ]
  },
  {
   "cell_type": "markdown",
   "metadata": {},
   "source": [
    "MAE"
   ]
  },
  {
   "cell_type": "code",
   "execution_count": 21,
   "metadata": {},
   "outputs": [
    {
     "data": {
      "text/plain": [
       "13.44106097738985"
      ]
     },
     "execution_count": 21,
     "metadata": {},
     "output_type": "execute_result"
    }
   ],
   "source": [
    "mae(predicted_counts,actual_counts)"
   ]
  },
  {
   "cell_type": "markdown",
   "metadata": {},
   "source": [
    "R2 Score"
   ]
  },
  {
   "cell_type": "code",
   "execution_count": 22,
   "metadata": {},
   "outputs": [
    {
     "data": {
      "text/plain": [
       "0.22017798872953498"
      ]
     },
     "execution_count": 22,
     "metadata": {},
     "output_type": "execute_result"
    }
   ],
   "source": [
    "r2_score(actual_counts,predicted_counts)"
   ]
  },
  {
   "cell_type": "code",
   "execution_count": null,
   "metadata": {},
   "outputs": [],
   "source": []
  }
 ],
 "metadata": {
  "kernelspec": {
   "display_name": "Python 3",
   "language": "python",
   "name": "python3"
  },
  "language_info": {
   "codemirror_mode": {
    "name": "ipython",
    "version": 3
   },
   "file_extension": ".py",
   "mimetype": "text/x-python",
   "name": "python",
   "nbconvert_exporter": "python",
   "pygments_lexer": "ipython3",
   "version": "3.7.6"
  }
 },
 "nbformat": 4,
 "nbformat_minor": 4
}
