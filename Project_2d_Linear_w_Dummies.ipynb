{
 "cells": [
  {
   "cell_type": "code",
   "execution_count": 4,
   "metadata": {},
   "outputs": [
    {
     "data": {
      "text/html": [
       "<style>.container { width:100% !important; }</style>"
      ],
      "text/plain": [
       "<IPython.core.display.HTML object>"
      ]
     },
     "metadata": {},
     "output_type": "display_data"
    }
   ],
   "source": [
    "# Necessary imports\n",
    "import pandas as pd\n",
    "import numpy as np\n",
    "import statsmodels.api as sm\n",
    "import statsmodels.formula.api as smf\n",
    "import patsy\n",
    "\n",
    "import seaborn as sns\n",
    "import matplotlib.pyplot as plt\n",
    "from sklearn.linear_model import LinearRegression\n",
    "from sklearn.linear_model import RidgeCV\n",
    "%matplotlib inline\n",
    "\n",
    "from sklearn.model_selection import train_test_split\n",
    "from sklearn.linear_model import LinearRegression\n",
    "\n",
    "import scipy.stats as stats\n",
    "\n",
    "from sklearn.pipeline import Pipeline\n",
    "from sklearn.preprocessing import StandardScaler\n",
    "\n",
    "from IPython.core.display import display, HTML\n",
    "display(HTML(\"<style>.container { width:100% !important; }</style>\"))\n",
    "\n",
    "from sklearn.model_selection import train_test_split\n",
    "from sklearn.linear_model import LinearRegression, Lasso, LassoCV, Ridge, RidgeCV\n",
    "from sklearn.metrics import r2_score\n",
    "\n",
    "from sklearn.metrics import mean_squared_error\n",
    "from math import sqrt\n",
    "from sklearn.model_selection import KFold\n",
    "\n",
    "\n",
    "import os\n",
    "from matplotlib import font_manager as fm\n",
    "import matplotlib.patches as mpatches\n",
    "from matplotlib.lines import Line2D"
   ]
  },
  {
   "cell_type": "markdown",
   "metadata": {},
   "source": [
    "## Modeling citation count with Linear Regression"
   ]
  },
  {
   "cell_type": "code",
   "execution_count": 10,
   "metadata": {},
   "outputs": [],
   "source": [
    "#Mean Absolute Error (MAE)\n",
    "def mae(y_true, y_pred):\n",
    "    return np.mean(np.abs(y_pred - y_true)) \n"
   ]
  },
  {
   "cell_type": "code",
   "execution_count": 11,
   "metadata": {},
   "outputs": [],
   "source": [
    "def split_and_validate(X, y):\n",
    "    '''\n",
    "    For a set of features and target X, y, perform a 80/20 train/val split, \n",
    "    fit and validate a linear regression model, and report results\n",
    "    '''\n",
    "    \n",
    "    # perform train/val split\n",
    "    X_train, X_val, y_train, y_val = \\\n",
    "        train_test_split(X, y, test_size=0.2, random_state=42)\n",
    "    \n",
    "    # fit linear regression to training data\n",
    "    lr_model = LinearRegression()\n",
    "    lr_model.fit(X_train, y_train)\n",
    "    \n",
    "    # score fit model on validation data\n",
    "    val_score = lr_model.score(X_val, y_val)\n",
    "    \n",
    "    # report results\n",
    "    print('\\nValidation R^2 score was:', val_score)\n",
    "    print('Feature coefficient results: \\n')\n",
    "    for feature, coef in zip(X.columns, lr_model.coef_):\n",
    "        print(feature, ':', f'{coef:.2f}') "
   ]
  },
  {
   "cell_type": "markdown",
   "metadata": {},
   "source": [
    "Read in and clean data."
   ]
  },
  {
   "cell_type": "code",
   "execution_count": 12,
   "metadata": {},
   "outputs": [],
   "source": [
    "df = pd.read_csv(\"features.csv\")\n",
    "\n",
    "df = df[~df.Citations.str.contains('Data')]\n",
    "df.Accesses = df.Accesses.str.replace('k','000',regex=True)\n",
    "\n",
    "df.Citations = df.Citations.astype('int64')\n",
    "df.Accesses = df.Accesses.astype('int64')\n",
    "df = df.drop(['Document_No'],1)"
   ]
  },
  {
   "cell_type": "markdown",
   "metadata": {},
   "source": [
    "Add dummies for Dominant_Topic_small."
   ]
  },
  {
   "cell_type": "code",
   "execution_count": 13,
   "metadata": {},
   "outputs": [],
   "source": [
    "dummies = pd.get_dummies(df.Dominant_Topic_small)\n",
    "df = pd.concat([df,dummies],1)"
   ]
  },
  {
   "cell_type": "markdown",
   "metadata": {},
   "source": [
    "Dropping columns with negative coeffients in stats models w/scaled X_train."
   ]
  },
  {
   "cell_type": "code",
   "execution_count": 14,
   "metadata": {},
   "outputs": [],
   "source": [
    "y = df.Citations\n",
    "X = df.drop(['Citations','Dominant_Topic_large','Accesses','lenTitle','pubYear','pubMonth','Topic_Perc_Contrib_large','norm_contrib_large','delta_Months_large','Topic_Perc_Contrib_small','avg_TPC_small','Counts_small','norm_contrib_small','NatureAC','avg_TPC_large',0.0,1.0,3.0],1)\n",
    "\n",
    "selected_columns = X.columns.tolist()"
   ]
  },
  {
   "cell_type": "markdown",
   "metadata": {},
   "source": [
    "Train/test split and feature scaling."
   ]
  },
  {
   "cell_type": "code",
   "execution_count": 15,
   "metadata": {},
   "outputs": [],
   "source": [
    "X_train, X_test, y_train, y_test = train_test_split(X, y, test_size=.2, random_state=10)"
   ]
  },
  {
   "cell_type": "code",
   "execution_count": 16,
   "metadata": {},
   "outputs": [],
   "source": [
    "std = StandardScaler()\n",
    "std.fit(X_train.values)\n",
    "\n",
    "X_tr = std.transform(X_train)\n",
    "X_te = std.transform(X_test)"
   ]
  },
  {
   "cell_type": "markdown",
   "metadata": {},
   "source": [
    "Linear regression model."
   ]
  },
  {
   "cell_type": "code",
   "execution_count": 17,
   "metadata": {},
   "outputs": [
    {
     "data": {
      "text/html": [
       "<table class=\"simpletable\">\n",
       "<caption>OLS Regression Results</caption>\n",
       "<tr>\n",
       "  <th>Dep. Variable:</th>        <td>Citations</td>    <th>  R-squared (uncentered):</th>      <td>   0.331</td> \n",
       "</tr>\n",
       "<tr>\n",
       "  <th>Model:</th>                   <td>OLS</td>       <th>  Adj. R-squared (uncentered):</th> <td>   0.326</td> \n",
       "</tr>\n",
       "<tr>\n",
       "  <th>Method:</th>             <td>Least Squares</td>  <th>  F-statistic:       </th>          <td>   77.27</td> \n",
       "</tr>\n",
       "<tr>\n",
       "  <th>Date:</th>             <td>Thu, 16 Jul 2020</td> <th>  Prob (F-statistic):</th>          <td>3.31e-116</td>\n",
       "</tr>\n",
       "<tr>\n",
       "  <th>Time:</th>                 <td>21:16:08</td>     <th>  Log-Likelihood:    </th>          <td> -6945.1</td> \n",
       "</tr>\n",
       "<tr>\n",
       "  <th>No. Observations:</th>      <td>  1416</td>      <th>  AIC:               </th>          <td>1.391e+04</td>\n",
       "</tr>\n",
       "<tr>\n",
       "  <th>Df Residuals:</th>          <td>  1407</td>      <th>  BIC:               </th>          <td>1.396e+04</td>\n",
       "</tr>\n",
       "<tr>\n",
       "  <th>Df Model:</th>              <td>     9</td>      <th>                     </th>              <td> </td>    \n",
       "</tr>\n",
       "<tr>\n",
       "  <th>Covariance Type:</th>      <td>nonrobust</td>    <th>                     </th>              <td> </td>    \n",
       "</tr>\n",
       "</table>\n",
       "<table class=\"simpletable\">\n",
       "<tr>\n",
       "   <td></td>     <th>coef</th>     <th>std err</th>      <th>t</th>      <th>P>|t|</th>  <th>[0.025</th>    <th>0.975]</th>  \n",
       "</tr>\n",
       "<tr>\n",
       "  <th>x1</th> <td>    4.1795</td> <td>    0.887</td> <td>    4.711</td> <td> 0.000</td> <td>    2.439</td> <td>    5.920</td>\n",
       "</tr>\n",
       "<tr>\n",
       "  <th>x2</th> <td>   21.5633</td> <td>    0.889</td> <td>   24.258</td> <td> 0.000</td> <td>   19.820</td> <td>   23.307</td>\n",
       "</tr>\n",
       "<tr>\n",
       "  <th>x3</th> <td>    0.8719</td> <td>    0.923</td> <td>    0.945</td> <td> 0.345</td> <td>   -0.938</td> <td>    2.682</td>\n",
       "</tr>\n",
       "<tr>\n",
       "  <th>x4</th> <td>    1.0759</td> <td>    0.878</td> <td>    1.225</td> <td> 0.221</td> <td>   -0.647</td> <td>    2.799</td>\n",
       "</tr>\n",
       "<tr>\n",
       "  <th>x5</th> <td>    1.2192</td> <td>    1.238</td> <td>    0.984</td> <td> 0.325</td> <td>   -1.210</td> <td>    3.649</td>\n",
       "</tr>\n",
       "<tr>\n",
       "  <th>x6</th> <td>    2.9933</td> <td>    1.077</td> <td>    2.780</td> <td> 0.006</td> <td>    0.881</td> <td>    5.105</td>\n",
       "</tr>\n",
       "<tr>\n",
       "  <th>x7</th> <td>    1.3586</td> <td>    0.877</td> <td>    1.549</td> <td> 0.121</td> <td>   -0.361</td> <td>    3.079</td>\n",
       "</tr>\n",
       "<tr>\n",
       "  <th>x8</th> <td>    0.4285</td> <td>    0.915</td> <td>    0.468</td> <td> 0.640</td> <td>   -1.367</td> <td>    2.224</td>\n",
       "</tr>\n",
       "<tr>\n",
       "  <th>x9</th> <td>    1.7938</td> <td>    1.380</td> <td>    1.300</td> <td> 0.194</td> <td>   -0.914</td> <td>    4.501</td>\n",
       "</tr>\n",
       "</table>\n",
       "<table class=\"simpletable\">\n",
       "<tr>\n",
       "  <th>Omnibus:</th>       <td>1768.419</td> <th>  Durbin-Watson:     </th>  <td>   1.296</td> \n",
       "</tr>\n",
       "<tr>\n",
       "  <th>Prob(Omnibus):</th>  <td> 0.000</td>  <th>  Jarque-Bera (JB):  </th> <td>391961.328</td>\n",
       "</tr>\n",
       "<tr>\n",
       "  <th>Skew:</th>           <td> 6.353</td>  <th>  Prob(JB):          </th>  <td>    0.00</td> \n",
       "</tr>\n",
       "<tr>\n",
       "  <th>Kurtosis:</th>       <td>83.511</td>  <th>  Cond. No.          </th>  <td>    2.94</td> \n",
       "</tr>\n",
       "</table><br/><br/>Warnings:<br/>[1] Standard Errors assume that the covariance matrix of the errors is correctly specified."
      ],
      "text/plain": [
       "<class 'statsmodels.iolib.summary.Summary'>\n",
       "\"\"\"\n",
       "                                 OLS Regression Results                                \n",
       "=======================================================================================\n",
       "Dep. Variable:              Citations   R-squared (uncentered):                   0.331\n",
       "Model:                            OLS   Adj. R-squared (uncentered):              0.326\n",
       "Method:                 Least Squares   F-statistic:                              77.27\n",
       "Date:                Thu, 16 Jul 2020   Prob (F-statistic):                   3.31e-116\n",
       "Time:                        21:16:08   Log-Likelihood:                         -6945.1\n",
       "No. Observations:                1416   AIC:                                  1.391e+04\n",
       "Df Residuals:                    1407   BIC:                                  1.396e+04\n",
       "Df Model:                           9                                                  \n",
       "Covariance Type:            nonrobust                                                  \n",
       "==============================================================================\n",
       "                 coef    std err          t      P>|t|      [0.025      0.975]\n",
       "------------------------------------------------------------------------------\n",
       "x1             4.1795      0.887      4.711      0.000       2.439       5.920\n",
       "x2            21.5633      0.889     24.258      0.000      19.820      23.307\n",
       "x3             0.8719      0.923      0.945      0.345      -0.938       2.682\n",
       "x4             1.0759      0.878      1.225      0.221      -0.647       2.799\n",
       "x5             1.2192      1.238      0.984      0.325      -1.210       3.649\n",
       "x6             2.9933      1.077      2.780      0.006       0.881       5.105\n",
       "x7             1.3586      0.877      1.549      0.121      -0.361       3.079\n",
       "x8             0.4285      0.915      0.468      0.640      -1.367       2.224\n",
       "x9             1.7938      1.380      1.300      0.194      -0.914       4.501\n",
       "==============================================================================\n",
       "Omnibus:                     1768.419   Durbin-Watson:                   1.296\n",
       "Prob(Omnibus):                  0.000   Jarque-Bera (JB):           391961.328\n",
       "Skew:                           6.353   Prob(JB):                         0.00\n",
       "Kurtosis:                      83.511   Cond. No.                         2.94\n",
       "==============================================================================\n",
       "\n",
       "Warnings:\n",
       "[1] Standard Errors assume that the covariance matrix of the errors is correctly specified.\n",
       "\"\"\""
      ]
     },
     "execution_count": 17,
     "metadata": {},
     "output_type": "execute_result"
    }
   ],
   "source": [
    "model = sm.OLS(y_train, X_tr)\n",
    "fit = model.fit()\n",
    "fit.summary()"
   ]
  },
  {
   "cell_type": "code",
   "execution_count": 18,
   "metadata": {},
   "outputs": [],
   "source": [
    "lr = LinearRegression()\n",
    "fit = lr.fit(X,y)"
   ]
  },
  {
   "cell_type": "markdown",
   "metadata": {},
   "source": [
    "Residual plot."
   ]
  },
  {
   "cell_type": "code",
   "execution_count": 19,
   "metadata": {},
   "outputs": [
    {
     "data": {
      "image/png": "[encoded data removed]",
      "text/plain": [
       "<Figure size 720x432 with 1 Axes>"
      ]
     },
     "metadata": {},
     "output_type": "display_data"
    }
   ],
   "source": [
    "df['predict']=fit.predict(X)\n",
    "df['resid']=df.Citations-df.predict\n",
    "with sns.axes_style('white'):\n",
    "    plot=df.plot(kind='scatter',\n",
    "                  x='predict',y='resid',alpha=0.2,figsize=(10,6))"
   ]
  },
  {
   "cell_type": "code",
   "execution_count": 44,
   "metadata": {},
   "outputs": [
    {
     "data": {
      "image/png": "[encoded data removed]",
      "text/plain": [
       "<Figure size 720x720 with 1 Axes>"
      ]
     },
     "metadata": {
      "needs_background": "light"
     },
     "output_type": "display_data"
    }
   ],
   "source": [
    "prop = fm.FontProperties(fname = '/Users/kaitlinchaung/Desktop/roboto/RobotoCondensed-Regular.ttf', size=20)\n",
    "\n",
    "plt.figure(figsize=[10,10])\n",
    "\n",
    "df['predict']=fit.predict(X)\n",
    "df['resid']=df.Citations-df.predict\n",
    "plt.ylim(-100,200)\n",
    "plt.tick_params(axis=u'both', which=u'both',length=0,labelsize=13)\n",
    "plt.scatter(df.predict,df.resid,color='grey')\n",
    "plt.xlabel(\"Predictions\",fontsize=15,fontproperties=prop, size=25)\n",
    "plt.ylabel(\"Residuals\",fontsize=15,fontproperties=prop, size=25)\n",
    "plt.title(\"OLS Model\",fontproperties=prop, size=35)\n",
    "plt.box(on=None)\n",
    "plt.savefig(\"ols_resid.png\",transparent=True)"
   ]
  },
  {
   "cell_type": "code",
   "execution_count": 58,
   "metadata": {},
   "outputs": [
    {
     "data": {
      "image/png": "[encoded data removed]",
      "text/plain": [
       "<Figure size 720x720 with 1 Axes>"
      ]
     },
     "metadata": {
      "needs_background": "light"
     },
     "output_type": "display_data"
    }
   ],
   "source": [
    "prop = fm.FontProperties(fname = '/Users/kaitlinchaung/Desktop/roboto/RobotoCondensed-Regular.ttf', size=20)\n",
    "\n",
    "plt.figure(figsize=[10,10])\n",
    "\n",
    "df.Citations.hist(bins=100, color='grey')\n",
    "plt.box(on=None)\n",
    "plt.grid(False)\n",
    "plt.xlabel(\"Citations\",fontsize=15,fontproperties=prop, size=25)\n",
    "plt.ylabel(\"Counts\",fontsize=15,fontproperties=prop, size=25)\n",
    "plt.xlim(0,400)\n",
    "\n",
    "plt.title(\"Distribution of Citation Counts\",fontproperties=prop, size=35)\n",
    "plt.savefig('y_hist.png',transparent=True)"
   ]
  },
  {
   "cell_type": "markdown",
   "metadata": {},
   "source": [
    "QQ plot."
   ]
  },
  {
   "cell_type": "code",
   "execution_count": 300,
   "metadata": {},
   "outputs": [
    {
     "data": {
      "image/png": "[encoded data removed]",
      "text/plain": [
       "<Figure size 432x288 with 1 Axes>"
      ]
     },
     "metadata": {
      "needs_background": "light"
     },
     "output_type": "display_data"
    }
   ],
   "source": [
    "stats.probplot(df['resid'], dist=\"norm\", plot=plt)\n",
    "plt.title(\"Normal Q-Q plot\")\n",
    "plt.show()"
   ]
  },
  {
   "cell_type": "markdown",
   "metadata": {},
   "source": [
    "Cross validation and Ridge regularization."
   ]
  },
  {
   "cell_type": "code",
   "execution_count": 301,
   "metadata": {},
   "outputs": [
    {
     "name": "stdout",
     "output_type": "stream",
     "text": [
      "Simple regression scores:  [0.4808611751637748, 0.3864147801177831, 0.46274323025821473, 0.28284134661691884, 0.3132318948238514]\n",
      "Ridge scores:  [0.4808906781890512, 0.38660477509103897, 0.4625351261764765, 0.2835518114828498, 0.3131831268878361] \n",
      "\n",
      "Simple mean cv r^2: 0.385 +- 0.079\n",
      "Ridge mean cv r^2: 0.385 +- 0.078\n"
     ]
    }
   ],
   "source": [
    "X, X_test, y, y_test = train_test_split(X, y, test_size=.2, random_state=8) #hold out 20% of the data for final testing\n",
    "\n",
    "#this helps with the way kf will generate indices below\n",
    "X, y = np.array(X_train), np.array(y_train)\n",
    "\n",
    "kf = KFold(n_splits=5, shuffle=True, random_state = 71)\n",
    "cv_lm_r2s, cv_lm_reg_r2s = [], [] #collect the validation results for both models\n",
    "\n",
    "\n",
    "for train_ind, val_ind in kf.split(X,y):\n",
    "    \n",
    "    X_train, y_train = X[train_ind], y[train_ind]\n",
    "    X_val, y_val = X[val_ind], y[val_ind] \n",
    "    \n",
    "    #simple linear regression\n",
    "    lm = LinearRegression()\n",
    "    lm_reg = Ridge(alpha=1)\n",
    "\n",
    "    lm.fit(X_train, y_train)\n",
    "    cv_lm_r2s.append(lm.score(X_val, y_val))\n",
    "    \n",
    "    #ridge with feature scaling\n",
    "    scaler = StandardScaler()\n",
    "    X_train_scaled = scaler.fit_transform(X_train)\n",
    "    X_val_scaled = scaler.transform(X_val)\n",
    "    \n",
    "    lm_reg.fit(X_train_scaled, y_train)\n",
    "    cv_lm_reg_r2s.append(lm_reg.score(X_val_scaled, y_val))\n",
    "\n",
    "print('Simple regression scores: ', cv_lm_r2s)\n",
    "print('Ridge scores: ', cv_lm_reg_r2s, '\\n')\n",
    "\n",
    "print(f'Simple mean cv r^2: {np.mean(cv_lm_r2s):.3f} +- {np.std(cv_lm_r2s):.3f}')\n",
    "print(f'Ridge mean cv r^2: {np.mean(cv_lm_reg_r2s):.3f} +- {np.std(cv_lm_reg_r2s):.3f}')"
   ]
  },
  {
   "cell_type": "markdown",
   "metadata": {},
   "source": [
    "Optimizing alpha value for Lasso regularization."
   ]
  },
  {
   "cell_type": "code",
   "execution_count": 326,
   "metadata": {},
   "outputs": [
    {
     "data": {
      "text/plain": [
       "LassoCV(alphas=array([1.00000000e-02, 1.04737090e-02, 1.09698580e-02, 1.14895100e-02,\n",
       "       1.20337784e-02, 1.26038293e-02, 1.32008840e-02, 1.38262217e-02,\n",
       "       1.44811823e-02, 1.51671689e-02, 1.58856513e-02, 1.66381689e-02,\n",
       "       1.74263339e-02, 1.82518349e-02, 1.91164408e-02, 2.00220037e-02,\n",
       "       2.09704640e-02, 2.19638537e-02, 2.30043012e-02, 2.40940356e-02,\n",
       "       2.52353917e-02, 2.64308149e-0...\n",
       "       6.01027678e+01, 6.29498899e+01, 6.59318827e+01, 6.90551352e+01,\n",
       "       7.23263390e+01, 7.57525026e+01, 7.93409667e+01, 8.30994195e+01,\n",
       "       8.70359136e+01, 9.11588830e+01, 9.54771611e+01, 1.00000000e+02]),\n",
       "        copy_X=True, cv=5, eps=0.001, fit_intercept=True, max_iter=1000,\n",
       "        n_alphas=100, n_jobs=None, normalize=False, positive=False,\n",
       "        precompute='auto', random_state=None, selection='cyclic', tol=0.0001,\n",
       "        verbose=False)"
      ]
     },
     "execution_count": 326,
     "metadata": {},
     "output_type": "execute_result"
    }
   ],
   "source": [
    "X_tr = std.transform(X_train)\n",
    "\n",
    "alphavec = 10**np.linspace(-2,2,200)\n",
    "\n",
    "lasso_model = LassoCV(alphas = alphavec, cv=5)\n",
    "lasso_model.fit(X_tr, y_train)"
   ]
  },
  {
   "cell_type": "markdown",
   "metadata": {},
   "source": [
    "Use optimal alpha to re-fit model."
   ]
  },
  {
   "cell_type": "code",
   "execution_count": 327,
   "metadata": {},
   "outputs": [
    {
     "data": {
      "text/plain": [
       "Lasso(alpha=0.22219468609395238, copy_X=True, fit_intercept=True, max_iter=1000,\n",
       "      normalize=False, positive=False, precompute=False, random_state=None,\n",
       "      selection='cyclic', tol=0.0001, warm_start=False)"
      ]
     },
     "execution_count": 327,
     "metadata": {},
     "output_type": "execute_result"
    }
   ],
   "source": [
    "best_alpha = lasso_model.alpha_\n",
    "\n",
    "lasso_model = Lasso(alpha = best_alpha)\n",
    "lasso_model.fit(X_tr, y_train)"
   ]
  },
  {
   "cell_type": "markdown",
   "metadata": {},
   "source": [
    "Lasso Coef before reverse scale."
   ]
  },
  {
   "cell_type": "code",
   "execution_count": 328,
   "metadata": {},
   "outputs": [
    {
     "data": {
      "text/plain": [
       "[('NumAuthors', 4.13258564531714),\n",
       " ('ImpactFactor', 20.933211791330017),\n",
       " ('Counts_large', 1.2385049617680073),\n",
       " ('delta_AvgTPC_large', 0.7844945483757811),\n",
       " ('Dominant_Topic_small', 0.633524240655765),\n",
       " ('delta_Months_small', 2.2966651098400557),\n",
       " ('delta_AvgTPC_small', 0.798848762086418),\n",
       " (2.0, 0.2701763014259799),\n",
       " (4.0, 1.2859686142698383)]"
      ]
     },
     "execution_count": 328,
     "metadata": {},
     "output_type": "execute_result"
    }
   ],
   "source": [
    "(list(zip(selected_columns, lasso_model.coef_)))"
   ]
  },
  {
   "cell_type": "markdown",
   "metadata": {},
   "source": [
    "Reverse scale beta coeffients in Lasso model."
   ]
  },
  {
   "cell_type": "code",
   "execution_count": 329,
   "metadata": {},
   "outputs": [],
   "source": [
    "reverse_scaled_beta = std.inverse_transform(lasso_model.coef_)"
   ]
  },
  {
   "cell_type": "code",
   "execution_count": null,
   "metadata": {},
   "outputs": [],
   "source": [
    "Lasso Coef after reverse scale. Remove features with neg coeff."
   ]
  },
  {
   "cell_type": "code",
   "execution_count": 330,
   "metadata": {},
   "outputs": [
    {
     "data": {
      "text/plain": [
       "[('NumAuthors', 4.13258564531714),\n",
       " ('ImpactFactor', 20.933211791330017),\n",
       " ('Counts_large', 1.2385049617680073),\n",
       " ('delta_AvgTPC_large', 0.7844945483757811),\n",
       " ('Dominant_Topic_small', 0.633524240655765),\n",
       " ('delta_Months_small', 2.2966651098400557),\n",
       " ('delta_AvgTPC_small', 0.798848762086418),\n",
       " (2.0, 0.2701763014259799),\n",
       " (4.0, 1.2859686142698383)]"
      ]
     },
     "execution_count": 330,
     "metadata": {},
     "output_type": "execute_result"
    }
   ],
   "source": [
    "list(zip(selected_columns, lasso_model.coef_))"
   ]
  },
  {
   "cell_type": "markdown",
   "metadata": {},
   "source": [
    "Standard scale X_test and use lasso to predict y_test."
   ]
  },
  {
   "cell_type": "code",
   "execution_count": 331,
   "metadata": {},
   "outputs": [],
   "source": [
    "X_te = std.transform(X_test)\n",
    "test_set_pred = lasso_model.predict(X_te)"
   ]
  },
  {
   "cell_type": "code",
   "execution_count": 237,
   "metadata": {},
   "outputs": [
    {
     "name": "stdout",
     "output_type": "stream",
     "text": [
      "\n",
      "Test MAE:  12.072499849240435\n"
     ]
    }
   ],
   "source": [
    "\"\"\"\n",
    "MAE of prediction\n",
    "\"\"\"\n",
    "\n",
    "test_mae = mae(y_test, test_set_pred)\n",
    "\n",
    "print('\\nTest MAE: ', test_mae)"
   ]
  },
  {
   "cell_type": "code",
   "execution_count": 238,
   "metadata": {},
   "outputs": [
    {
     "name": "stdout",
     "output_type": "stream",
     "text": [
      "\n",
      "Test R2:  0.3545128828340288\n"
     ]
    }
   ],
   "source": [
    "\"\"\"\n",
    "R2 of prediction\n",
    "\"\"\"\n",
    "\n",
    "r2 = r2_score(y_test, test_set_pred)\n",
    "\n",
    "print('\\nTest R2: ', r2)"
   ]
  },
  {
   "cell_type": "code",
   "execution_count": 239,
   "metadata": {},
   "outputs": [
    {
     "name": "stdout",
     "output_type": "stream",
     "text": [
      "\n",
      "Test RMSE:  27.442894090488878\n"
     ]
    }
   ],
   "source": [
    "\"\"\"\n",
    "RMSE of prediction\n",
    "\"\"\"\n",
    "\n",
    "rmse = sqrt(mean_squared_error(y_test, test_set_pred))\n",
    "\n",
    "print('\\nTest RMSE: ', rmse)"
   ]
  }
 ],
 "metadata": {
  "kernelspec": {
   "display_name": "Python 3",
   "language": "python",
   "name": "python3"
  },
  "language_info": {
   "codemirror_mode": {
    "name": "ipython",
    "version": 3
   },
   "file_extension": ".py",
   "mimetype": "text/x-python",
   "name": "python",
   "nbconvert_exporter": "python",
   "pygments_lexer": "ipython3",
   "version": "3.7.6"
  }
 },
 "nbformat": 4,
 "nbformat_minor": 4
}
